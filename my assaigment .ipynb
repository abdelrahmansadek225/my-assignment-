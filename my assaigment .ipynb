{
 "cells": [
  {
   "cell_type": "code",
   "execution_count": 1,
   "id": "243132be-e1f5-4476-b830-52bfbd6b38dc",
   "metadata": {
    "tags": []
   },
   "outputs": [],
   "source": [
    "# Data Science Notebook\n",
    "\n"
   ]
  },
  {
   "cell_type": "code",
   "execution_count": 3,
   "id": "bb19ffe3-4e02-4da6-a5ba-bdd4e4dfc4bc",
   "metadata": {
    "tags": []
   },
   "outputs": [],
   "source": [
    "## Introduction\n",
    "##This notebook contains exercises related to data science, including languages, libraries, tools, and arithmetic operations.\n"
   ]
  },
  {
   "cell_type": "code",
   "execution_count": 5,
   "id": "df5d2fb8-bac1-4a7e-99b0-754b571c627d",
   "metadata": {
    "tags": []
   },
   "outputs": [],
   "source": [
    "## Data Science Languages\n",
    "## Python\n",
    "## R\n",
    "## SQL\n",
    "## Julia\n",
    "## Scala\n"
   ]
  },
  {
   "cell_type": "code",
   "execution_count": 6,
   "id": "ac4fe2a0-cc25-433f-9f67-0c3a2acd9207",
   "metadata": {
    "tags": []
   },
   "outputs": [],
   "source": [
    "## Data Science Libraries\n",
    "## Pandas\n",
    "## NumPy\n",
    "## Matplotlib\n",
    "## Scikit-learn\n",
    "## TensorFlow\n",
    "## ggplot2\n"
   ]
  },
  {
   "cell_type": "code",
   "execution_count": 7,
   "id": "71e455e5-7723-4bfa-a571-8fbca3be49fe",
   "metadata": {
    "tags": []
   },
   "outputs": [],
   "source": [
    "## Data Science Tools\n",
    "\n",
    "##| Tool         | Description                               |\n",
    "##|--------------|-------------------------------------------|\n",
    "##| Jupyter      | Interactive computing notebook            |\n",
    "##| RStudio      | IDE for R programming language            |\n",
    "##| TensorFlow   | Open-source machine learning framework    |\n",
    "##| Apache Spark | Distributed computing system              |\n",
    "##| Tableau      | Data visualization tool                   |\n"
   ]
  },
  {
   "cell_type": "code",
   "execution_count": 8,
   "id": "8ea5c686-153a-49d7-b1ed-6087fac0ade1",
   "metadata": {
    "tags": []
   },
   "outputs": [],
   "source": [
    "## Arithmetic Expression Examples\n",
    "## Below are examples of basic arithmetic operations such as addition, multiplication, and division.\n"
   ]
  },
  {
   "cell_type": "code",
   "execution_count": 9,
   "id": "d5102dbc-5c7b-434a-86ac-9862774d8dd0",
   "metadata": {
    "tags": []
   },
   "outputs": [
    {
     "name": "stdout",
     "output_type": "stream",
     "text": [
      "17\n"
     ]
    }
   ],
   "source": [
    "# Multiplying and adding numbers\n",
    "result = (3 * 4) + 5\n",
    "print(result)\n"
   ]
  },
  {
   "cell_type": "code",
   "execution_count": 10,
   "id": "88d261e4-84bc-463b-8eb6-feac57a51255",
   "metadata": {
    "tags": []
   },
   "outputs": [
    {
     "name": "stdout",
     "output_type": "stream",
     "text": [
      "2.5\n"
     ]
    }
   ],
   "source": [
    "# Converting minutes to hours\n",
    "minutes = 150\n",
    "hours = minutes / 60\n",
    "print(hours)\n"
   ]
  },
  {
   "cell_type": "code",
   "execution_count": 11,
   "id": "1640767c-1e8f-43ee-9708-f43c2be18ddc",
   "metadata": {
    "tags": []
   },
   "outputs": [],
   "source": [
    "## Objectives\n",
    "## - Learn about data science languages and libraries\n",
    "## - Understand basic arithmetic operations\n",
    "## - Practice using Jupyter Notebook and GitHub\n"
   ]
  },
  {
   "cell_type": "code",
   "execution_count": 12,
   "id": "512b0421-c473-4262-8c45-8fd44975d265",
   "metadata": {
    "tags": []
   },
   "outputs": [],
   "source": [
    "## Author\n",
    "## abdelrahman sadek \n"
   ]
  },
  {
   "cell_type": "code",
   "execution_count": null,
   "id": "ae24d56f-a5af-48a8-a0a2-2687140d9b68",
   "metadata": {},
   "outputs": [],
   "source": []
  }
 ],
 "metadata": {
  "kernelspec": {
   "display_name": "Python",
   "language": "python",
   "name": "conda-env-python-py"
  },
  "language_info": {
   "codemirror_mode": {
    "name": "ipython",
    "version": 3
   },
   "file_extension": ".py",
   "mimetype": "text/x-python",
   "name": "python",
   "nbconvert_exporter": "python",
   "pygments_lexer": "ipython3",
   "version": "3.7.12"
  }
 },
 "nbformat": 4,
 "nbformat_minor": 5
}
